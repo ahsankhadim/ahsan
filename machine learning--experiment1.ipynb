{
 "cells": [
  {
   "cell_type": "code",
   "execution_count": 2,
   "metadata": {
    "collapsed": false
   },
   "outputs": [
    {
     "name": "stdout",
     "output_type": "stream",
     "text": [
      "test\n"
     ]
    }
   ],
   "source": [
    "print('test')"
   ]
  },
  {
   "cell_type": "markdown",
   "metadata": {},
   "source": [
    "import model, define global params."
   ]
  },
  {
   "cell_type": "code",
   "execution_count": 1,
   "metadata": {
    "collapsed": false
   },
   "outputs": [],
   "source": [
    "import matplotlib.pyplot as plt\n",
    "import numpy as np\n",
    "from sklearn.datasets import load_svmlight_file\n",
    "from sklearn.model_selection import train_test_split\n",
    "\n",
    "alpha = 0.1   # learning rate, gradient descent\n",
    "iteration_times = 100   # iteration times"
   ]
  },
  {
   "cell_type": "markdown",
   "metadata": {},
   "source": [
    "load house dataset, and print its shape"
   ]
  },
  {
   "cell_type": "code",
   "execution_count": 2,
   "metadata": {
    "collapsed": false
   },
   "outputs": [
    {
     "name": "stdout",
     "output_type": "stream",
     "text": [
      "house data shape: (506, 13) ----label shape: (506,)\n"
     ]
    }
   ],
   "source": [
    "house = load_svmlight_file('E:/Master/personal/实验和作业/机器学习/data/housing_scale.svm')\n",
    "print('house data shape:', house[0].shape, '----label shape:', house[1].shape)"
   ]
  },
  {
   "cell_type": "markdown",
   "metadata": {},
   "source": [
    "split data into train and test, train size is 80%"
   ]
  },
  {
   "cell_type": "code",
   "execution_count": 3,
   "metadata": {
    "collapsed": false
   },
   "outputs": [
    {
     "name": "stdout",
     "output_type": "stream",
     "text": [
      "train data shape: (404, 13)\n",
      "test data shape: (102, 13)\n"
     ]
    }
   ],
   "source": [
    "x_train, x_test, y_train, y_test = train_test_split(house[0], house[1], train_size=0.8, test_size=0.2)\n",
    "print('train data shape:', x_train.shape)\n",
    "print('test data shape:', x_test.shape)"
   ]
  },
  {
   "cell_type": "markdown",
   "metadata": {},
   "source": [
    "linear model, initial params random, weight matrix and bias term\n",
    "- attention: w * b's shape is equal to b's shape."
   ]
  },
  {
   "cell_type": "code",
   "execution_count": 4,
   "metadata": {
    "collapsed": false
   },
   "outputs": [
    {
     "name": "stdout",
     "output_type": "stream",
     "text": [
      "weight shape: (13,)\n"
     ]
    }
   ],
   "source": [
    "w = np.random.randn(x_train.shape[1])\n",
    "b = np.random.randn()\n",
    "print('weight shape:', w.shape)"
   ]
  },
  {
   "cell_type": "markdown",
   "metadata": {},
   "source": [
    "iteration model\n",
    "- using linear model and square loss function.\n",
    "- gradient descent, compute and update the gradient of weight and bias.\n",
    "- comput loss of test data"
   ]
  },
  {
   "cell_type": "code",
   "execution_count": 5,
   "metadata": {
    "collapsed": false
   },
   "outputs": [
    {
     "name": "stdout",
     "output_type": "stream",
     "text": [
      "i: 0 current train loss: 233.832078947 current test loss: 118.63219808\n",
      "i: 10 current train loss: 73.7345295187 current test loss: 44.1158398649\n",
      "i: 20 current train loss: 66.9449807707 current test loss: 40.2844073807\n",
      "i: 30 current train loss: 61.9943907948 current test loss: 37.2803629114\n",
      "i: 40 current train loss: 58.3264828336 current test loss: 34.9361854498\n",
      "i: 50 current train loss: 55.5998395182 current test loss: 33.1180322261\n",
      "i: 60 current train loss: 53.5650860262 current test loss: 31.7143072591\n",
      "i: 70 current train loss: 52.0384215783 current test loss: 30.6341768245\n",
      "i: 80 current train loss: 50.8846162411 current test loss: 29.8045432058\n",
      "i: 90 current train loss: 50.0045291941 current test loss: 29.1673139371\n"
     ]
    }
   ],
   "source": [
    "train_total_loss = []    # train loss value\n",
    "test_total_loss = []    # test loss value\n",
    "for i in range(iteration_times):\n",
    "    y_pred = x_train*w + b\n",
    "    loss_train = 0.5*np.linalg.norm(y_pred - y_train)    # square loss function of train data\n",
    "    y_test_pred = x_test*w + b\n",
    "    loss_test = 0.5*np.linalg.norm(y_test_pred - y_test)    # square loss function of test data\n",
    "    train_total_loss.append(loss_train)    # add list\n",
    "    test_total_loss.append(loss_test)\n",
    "    if i % 10 == 0:  # print info each 100\n",
    "        print('i:', i, 'current train loss:', loss_train, 'current test loss:', loss_test)\n",
    "    # update w and b\n",
    "    w = w - alpha*(y_pred - y_train)*x_train/y_train.shape[0]\n",
    "    b = b - alpha*np.mean(y_pred - y_train)"
   ]
  },
  {
   "cell_type": "markdown",
   "metadata": {},
   "source": [
    "draw the pic of train and test loss with different iteration times"
   ]
  },
  {
   "cell_type": "code",
   "execution_count": 6,
   "metadata": {
    "collapsed": false,
    "scrolled": true
   },
   "outputs": [
    {
     "data": {
      "image/png": "[encoded data removed]",
      "text/plain": [
       "<matplotlib.figure.Figure at 0x172670d0668>"
      ]
     },
     "metadata": {},
     "output_type": "display_data"
    }
   ],
   "source": [
    "# train loss plt\n",
    "plt.figure()\n",
    "plt.title('train and validation loss with linear model, house data')\n",
    "plt.plot(range(len(train_total_loss)), train_total_loss, color='r', label='train loss')\n",
    "# test loss plt\n",
    "plt.plot(range(len(test_total_loss)), test_total_loss, color='y', label='validation loss')\n",
    "plt.xlabel('iteration times')\n",
    "plt.ylabel('loss value')\n",
    "plt.legend()\n",
    "plt.show()"
   ]
  },
  {
   "cell_type": "markdown",
   "metadata": {},
   "source": [
    "load australian dataset, and print its shape\n",
    "split data into train and test, train size is 80%"
   ]
  },
  {
   "cell_type": "code",
   "execution_count": 7,
   "metadata": {
    "collapsed": false
   },
   "outputs": [
    {
     "name": "stdout",
     "output_type": "stream",
     "text": [
      "australian data shape: (690, 14) ----label shape: (690,)\n",
      "train data shape: (552, 14)\n",
      "test data shape: (138, 14)\n"
     ]
    }
   ],
   "source": [
    "australian = load_svmlight_file('E:/Master/personal/实验和作业/机器学习/data/australian_scale.svm')\n",
    "print('australian data shape:', australian[0].shape, '----label shape:', australian[1].shape)\n",
    "x_train, x_test, y_train, y_test = train_test_split(australian[0], australian[1], train_size=0.8, test_size=0.2)\n",
    "print('train data shape:', x_train.shape)\n",
    "print('test data shape:', x_test.shape)"
   ]
  },
  {
   "cell_type": "markdown",
   "metadata": {},
   "source": [
    "linear classification, use svm model\n",
    "initial params random, weight matrix and bias term"
   ]
  },
  {
   "cell_type": "code",
   "execution_count": 8,
   "metadata": {
    "collapsed": false
   },
   "outputs": [
    {
     "name": "stdout",
     "output_type": "stream",
     "text": [
      "weight matrix shape: (14,)\n"
     ]
    }
   ],
   "source": [
    "lamb = 0.1 \n",
    "w = np.random.randn(x_train.shape[1])\n",
    "b = np.random.randn()\n",
    "print('weight matrix shape:', w.shape)"
   ]
  },
  {
   "cell_type": "markdown",
   "metadata": {},
   "source": [
    "iteration model\n",
    "- using svm model, hinge loss. comput loss of train and validation data\n",
    "- gradient descent, compute and update the gradient of weight and bias."
   ]
  },
  {
   "cell_type": "code",
   "execution_count": 9,
   "metadata": {
    "collapsed": false
   },
   "outputs": [
    {
     "name": "stdout",
     "output_type": "stream",
     "text": [
      "i: 0 current train loss: 1432.00023636 current test loss: 334.590353421\n",
      "i: 10 current train loss: 177.686635281 current test loss: 71.6771985809\n",
      "i: 20 current train loss: 168.880690226 current test loss: 69.8340566491\n",
      "i: 30 current train loss: 178.509165123 current test loss: 69.0931697325\n",
      "i: 40 current train loss: 173.275564967 current test loss: 67.0172920166\n",
      "i: 50 current train loss: 169.068096628 current test loss: 69.6851177794\n",
      "i: 60 current train loss: 178.645826006 current test loss: 68.3692664697\n",
      "i: 70 current train loss: 171.025923846 current test loss: 67.7199454195\n",
      "i: 80 current train loss: 182.778999241 current test loss: 72.9519612785\n",
      "i: 90 current train loss: 184.402115298 current test loss: 69.9885252596\n"
     ]
    }
   ],
   "source": [
    "train_total_loss = []    # train loss value\n",
    "test_total_loss = []    # test loss value\n",
    "for i in range(iteration_times):\n",
    "    hinge_temp = 1 - y_train*(x_train*w + b)\n",
    "    hinge_temp[hinge_temp < 0] = 0\n",
    "    loss_train = np.sum(hinge_temp) + 0.5*lamb*np.linalg.norm(w)    # hinge loss function of train data\n",
    "    \n",
    "    hinge_temp = 1 - y_test*(x_test*w + b)\n",
    "    hinge_temp[hinge_temp < 0] = 0\n",
    "    loss_test = np.sum(hinge_temp) + 0.5*lamb*np.linalg.norm(w)    # hinge loss function of test data\n",
    "\n",
    "    train_total_loss.append(loss_train)    # add list\n",
    "    test_total_loss.append(loss_test)\n",
    "    \n",
    "    if i % 10 == 0:  # print info each 100\n",
    "        print('i:', i, 'current train loss:', loss_train, 'current test loss:', loss_test)\n",
    "        \n",
    "    # update w and b\n",
    "    # w_delta = alpha*y_train*x_train\n",
    "    for j in range(x_train.shape[0]):\n",
    "        if y_train[j]*(x_train[j]*w + b) < 1:\n",
    "            w = w + (alpha*y_train[j]*x_train[j]).toarray()[0]\n",
    "            b = b + alpha*y_train[j] "
   ]
  },
  {
   "cell_type": "markdown",
   "metadata": {},
   "source": [
    "draw the pic of train and test loss with different iteration times"
   ]
  },
  {
   "cell_type": "code",
   "execution_count": 10,
   "metadata": {
    "collapsed": false
   },
   "outputs": [
    {
     "data": {
      "image/png": "[encoded data removed]",
      "text/plain": [
       "<matplotlib.figure.Figure at 0x1726702ac50>"
      ]
     },
     "metadata": {},
     "output_type": "display_data"
    }
   ],
   "source": [
    "# train loss plt\n",
    "plt.figure()\n",
    "plt.title('train and validation loss with svm model, australian data')\n",
    "plt.plot(range(len(train_total_loss)), train_total_loss, color='r', label='train loss')\n",
    "# test loss plt\n",
    "plt.plot(range(len(test_total_loss)), test_total_loss, color='y', label='validation loss')\n",
    "plt.xlabel('iteration times')\n",
    "plt.ylabel('loss value')\n",
    "plt.legend()\n",
    "plt.show()"
   ]
  }
 ],
 "metadata": {
  "anaconda-cloud": {},
  "kernelspec": {
   "display_name": "Python [Root]",
   "language": "python",
   "name": "Python [Root]"
  },
  "language_info": {
   "codemirror_mode": {
    "name": "ipython",
    "version": 3
   },
   "file_extension": ".py",
   "mimetype": "text/x-python",
   "name": "python",
   "nbconvert_exporter": "python",
   "pygments_lexer": "ipython3",
   "version": "3.5.2"
  }
 },
 "nbformat": 4,
 "nbformat_minor": 0
}
